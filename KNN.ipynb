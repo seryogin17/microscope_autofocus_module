{
 "cells": [
  {
   "cell_type": "markdown",
   "metadata": {},
   "source": [
    "# Метод К-ближайших соседей "
   ]
  },
  {
   "cell_type": "code",
   "execution_count": 22,
   "metadata": {},
   "outputs": [
    {
     "name": "stdout",
     "output_type": "stream",
     "text": [
      "The autoreload extension is already loaded. To reload it, use:\n",
      "  %reload_ext autoreload\n"
     ]
    }
   ],
   "source": [
    "import numpy as np\n",
    "import torch\n",
    "import torchvision.datasets as dset\n",
    "from torchvision import transforms"
   ]
  },
  {
   "cell_type": "code",
   "execution_count": 53,
   "metadata": {},
   "outputs": [],
   "source": [
    "from sklearn.externals import joblib"
   ]
  },
  {
   "cell_type": "code",
   "execution_count": 23,
   "metadata": {},
   "outputs": [],
   "source": [
    "from dataset import load_dataset\n",
    "from knn import KNN\n",
    "from metrics import multiclass_accuracy"
   ]
  },
  {
   "cell_type": "markdown",
   "metadata": {},
   "source": [
    "# Загрузим данные\n"
   ]
  },
  {
   "cell_type": "code",
   "execution_count": 24,
   "metadata": {},
   "outputs": [],
   "source": [
    "mean_value = [0.6007, 0.5609, 0.6516]\n",
    "std_value = [0.0821, 0.0864, 0.0670]\n",
    "\n",
    "data = dset.ImageFolder(\n",
    "    root='../data',\n",
    "    transform = transforms.Compose([\n",
    "        transforms.Resize((224,224)),\n",
    "        transforms.ToTensor(),\n",
    "        transforms.Normalize(mean=mean_value, std=std_value)\n",
    "    ])\n",
    ")\n",
    "\n",
    "\n",
    "tensor = torch.zeros(())\n",
    "dset = tensor.new_empty((7500, 3, 224, 224), dtype=torch.float32)\n",
    "target = tensor.new_empty(7500, dtype=torch.int)\n",
    "\n",
    "test_split = 0.2\n",
    "val_split = 0.2\n",
    "test_split_ind = int(np.floor(test_split * len(data.imgs)))\n",
    "val_split_ind = test_split_ind + int(np.floor(val_split * (len(data.imgs) - test_split_ind)))\n",
    "indices = list(range(len(data.imgs)))\n",
    "np.random.shuffle(indices)\n",
    "\n",
    "test_indices, val_indices, train_indices = indices[:test_split_ind], indices[test_split_ind:val_split_ind], indices[val_split_ind:]\n",
    "\n",
    "batch_size = 100\n",
    "train_loader, val_loader, test_loader = load_dataset('../data/', batch_size)\n",
    "knn_classifier = KNN(k=3)\n",
    "def train_model(model, train_loader, val_loader):\n",
    "      for i_step, (x, y) in enumerate(train_loader):\n",
    "        model.fit(x.reshape(x.shape[0], -1).numpy(), y.numpy())\n",
    "        print('step is ', i_step)\n",
    "        averaged_accuracy = compute_accuracy(model, val_loader)\n",
    "        print('For ',i_step,' the accuracy is ', averaged_accuracy)\n",
    "        if i_step == 9:\n",
    "            break\n",
    "\n",
    "\n",
    "def compute_accuracy(model, loader):\n",
    "    accuracy = []\n",
    "    for i_step, (x, y) in enumerate(loader):\n",
    "        pred = model.predict(x.reshape(x.shape[0], -1).numpy())\n",
    "        accuracy.append(multiclass_accuracy(pred, y.numpy()))\n",
    "        if i_step == 9:\n",
    "            break\n",
    "    return sum(accuracy) / len(accuracy)\n",
    "\n",
    "train_model(knn_classifier, train_loader, val_loader)\n",
    "train_model(knn_classifier, train_loader, test_loader)"
   ]
  },
  {
   "cell_type": "code",
   "execution_count": 35,
   "metadata": {},
   "outputs": [],
   "source": [
    "tensor = torch.zeros(())\n",
    "dset = tensor.new_empty((7500, 3, 224, 224), dtype=torch.float32)\n",
    "target = tensor.new_empty(7500, dtype=torch.int)\n"
   ]
  },
  {
   "cell_type": "code",
   "execution_count": 44,
   "metadata": {},
   "outputs": [],
   "source": [
    "test_split = 0.2\n",
    "val_split = 0.2\n",
    "test_split_ind = int(np.floor(test_split * len(data.imgs)))\n",
    "val_split_ind = test_split_ind + int(np.floor(val_split * (len(data.imgs) - test_split_ind)))\n",
    "indices = list(range(len(data.imgs)))\n",
    "np.random.shuffle(indices)\n",
    "\n",
    "test_indices, val_indices, train_indices = indices[:test_split_ind], indices[test_split_ind:val_split_ind], indices[val_split_ind:]\n"
   ]
  },
  {
   "cell_type": "code",
   "execution_count": 50,
   "metadata": {},
   "outputs": [],
   "source": [
    "batch_size = 100\n",
    "train_loader, val_loader, test_loader = load_dataset('../data/', batch_size)"
   ]
  },
  {
   "cell_type": "code",
   "execution_count": 51,
   "metadata": {},
   "outputs": [],
   "source": [
    "knn_classifier = KNN(k=3)"
   ]
  },
  {
   "cell_type": "code",
   "execution_count": 55,
   "metadata": {},
   "outputs": [],
   "source": [
    "def train_model(model, train_loader, val_loader):\n",
    "      for i_step, (x, y) in enumerate(train_loader):\n",
    "        model.fit(x.reshape(x.shape[0], -1).numpy(), y.numpy())\n",
    "        print('step is ', i_step)\n",
    "        averaged_accuracy = compute_accuracy(model, val_loader)\n",
    "        print('For ',i_step,' the accuracy is ', averaged_accuracy)\n",
    "        if i_step == 9:\n",
    "            break\n",
    "\n",
    "\n",
    "def compute_accuracy(model, loader):\n",
    "    accuracy = []\n",
    "    for i_step, (x, y) in enumerate(loader):\n",
    "        pred = model.predict(x.reshape(x.shape[0], -1).numpy())\n",
    "        accuracy.append(multiclass_accuracy(pred, y.numpy()))\n",
    "        if i_step == 9:\n",
    "            break\n",
    "    return sum(accuracy) / len(accuracy)\n"
   ]
  },
  {
   "cell_type": "code",
   "execution_count": 56,
   "metadata": {},
   "outputs": [
    {
     "name": "stdout",
     "output_type": "stream",
     "text": [
      "step is  0\n",
      "For  0  the accuracy is  0.21000000000000002\n",
      "step is  1\n",
      "For  1  the accuracy is  0.28\n",
      "step is  2\n",
      "For  2  the accuracy is  0.21000000000000002\n",
      "step is  3\n",
      "For  3  the accuracy is  0.22999999999999998\n",
      "step is  4\n",
      "For  4  the accuracy is  0.21000000000000002\n",
      "step is  5\n",
      "For  5  the accuracy is  0.20000000000000004\n",
      "step is  6\n",
      "For  6  the accuracy is  0.18\n",
      "step is  7\n",
      "For  7  the accuracy is  0.22000000000000003\n",
      "step is  8\n",
      "For  8  the accuracy is  0.22999999999999998\n",
      "step is  9\n",
      "For  9  the accuracy is  0.19\n"
     ]
    }
   ],
   "source": [
    "train_model(knn_classifier, train_loader, val_loader)"
   ]
  },
  {
   "cell_type": "code",
   "execution_count": 57,
   "metadata": {},
   "outputs": [
    {
     "name": "stdout",
     "output_type": "stream",
     "text": [
      "step is  0\n",
      "For  0  the accuracy is  0.21000000000000002\n",
      "step is  1\n",
      "For  1  the accuracy is  0.23000000000000004\n",
      "step is  2\n",
      "For  2  the accuracy is  0.22000000000000003\n",
      "step is  3\n",
      "For  3  the accuracy is  0.22999999999999998\n",
      "step is  4\n",
      "For  4  the accuracy is  0.22000000000000003\n",
      "step is  5\n",
      "For  5  the accuracy is  0.22000000000000003\n",
      "step is  6\n",
      "For  6  the accuracy is  0.22000000000000003\n",
      "step is  7\n",
      "For  7  the accuracy is  0.19\n",
      "step is  8\n",
      "For  8  the accuracy is  0.24000000000000005\n",
      "step is  9\n",
      "For  9  the accuracy is  0.24000000000000005\n"
     ]
    }
   ],
   "source": [
    "train_model(knn_classifier, train_loader, test_loader)"
   ]
  },
  {
   "cell_type": "code",
   "execution_count": null,
   "metadata": {},
   "outputs": [],
   "source": []
  }
 ],
 "metadata": {
  "kernelspec": {
   "display_name": "Python 3",
   "language": "python",
   "name": "python3"
  },
  "language_info": {
   "codemirror_mode": {
    "name": "ipython",
    "version": 3
   },
   "file_extension": ".py",
   "mimetype": "text/x-python",
   "name": "python",
   "nbconvert_exporter": "python",
   "pygments_lexer": "ipython3",
   "version": "3.7.1"
  }
 },
 "nbformat": 4,
 "nbformat_minor": 2
}
