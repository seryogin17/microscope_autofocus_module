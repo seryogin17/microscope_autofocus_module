{
 "cells": [
  {
   "cell_type": "markdown",
   "metadata": {},
   "source": [
    "## Training and testing CNN MobileNet v3 "
   ]
  },
  {
   "cell_type": "code",
   "execution_count": 3,
   "metadata": {},
   "outputs": [],
   "source": [
    "import torch\n",
    "import torch.nn as nn\n",
    "import torch.optim as optim\n",
    "import torchvision.datasets as dset\n",
    "from torch.utils.data.sampler import SubsetRandomSampler, Sampler\n",
    "from torch.optim.lr_scheduler import StepLR\n",
    "\n",
    "from torchvision import transforms\n",
    "from mobilenetv3 import mobilenetv3_large, mobilenetv3_small\n",
    "import matplotlib.pyplot as plt\n",
    "%matplotlib inline\n",
    "\n",
    "import numpy as np"
   ]
  },
  {
   "cell_type": "code",
   "execution_count": null,
   "metadata": {},
   "outputs": [],
   "source": [
    "def count_mean_std(data_folder):\n",
    "    '''\n",
    "    Функция подсчитывает усредненные значения mean и std по всему датасету и возвращает их\n",
    "    '''\n",
    "    data = dset.ImageFolder(\n",
    "        root=data_folder,\n",
    "        transform = transforms.ToTensor())\n",
    "    \n",
    "    dataiter = iter(data)\n",
    "    \n",
    "    count = 0\n",
    "    for i in dataiter:\n",
    "        features, _ = i\n",
    "        if not count:\n",
    "            mean_sum = features.mean(axis=(1,2))\n",
    "            std_sum = features.std(axis=(1,2))\n",
    "        else:\n",
    "            mean_sum += features.mean(axis=(1,2))\n",
    "            std_sum += features.std(axis=(1,2))\n",
    "        count += 1\n",
    "\n",
    "    mean_value = mean_sum / count\n",
    "    std_value = std_sum / count\n",
    "    \n",
    "    return (mean_value, std_value)\n",
    "\n",
    "def load_dataset(data_folder, batch_size):\n",
    "    '''\n",
    "    Функция импортирует данные из указанной директории и возвращает DataLoader объекты\n",
    "    '''\n",
    "    mean_value = [0.6007, 0.5609, 0.6516]\n",
    "    std_value = [0.0821, 0.0864, 0.0670]\n",
    "    \n",
    "    if not (mean_value and std_value):\n",
    "        mean_value, std_value = count_mean_std(data_folder)\n",
    "    \n",
    "    data = dset.ImageFolder(\n",
    "        root=data_folder,\n",
    "        transform = transforms.Compose([\n",
    "            transforms.ToTensor(),\n",
    "            transforms.Normalize(mean=mean_value, std=std_value)\n",
    "        ])\n",
    "    )\n",
    "    \n",
    "    test_split = 0.2\n",
    "    val_split = 0.2\n",
    "    test_split_ind = int(np.floor(test_split * len(data.imgs)))\n",
    "    val_split_ind = test_split_ind + int(np.floor(val_split * (len(data.imgs) - test_split_ind)))\n",
    "    indices = list(range(len(data.imgs)))\n",
    "    np.random.shuffle(indices)\n",
    "    \n",
    "    test_indices, val_indices, train_indices = indices[:test_split_ind], indices[test_split_ind:val_split_ind], indices[val_split_ind:]                  \n",
    "    \n",
    "    train_sampler = SubsetRandomSampler(train_indices)\n",
    "    val_sampler = SubsetRandomSampler(val_indices)\n",
    "    test_sampler = SubsetRandomSampler(test_indices)\n",
    "    \n",
    "    train_loader = torch.utils.data.DataLoader(data, batch_size = batch_size, sampler=train_sampler)\n",
    "    val_loader = torch.utils.data.DataLoader(data, batch_size = batch_size, sampler=val_sampler)\n",
    "    test_loader = torch.utils.data.DataLoader(data, batch_size = batch_size, sampler=test_sampler)\n",
    "\n",
    "    return train_loader, val_loader, test_loader\n",
    "\n",
    "batch_size = 64\n",
    "train_loader, val_loader, test_loader = load_dataset('./data/', batch_size)"
   ]
  },
  {
   "cell_type": "code",
   "execution_count": null,
   "metadata": {},
   "outputs": [],
   "source": [
    "nn_model = mobilenetv3_large(num_classes=5)\n",
    "nn_model.type(torch.FloatTensor)\n",
    "\n",
    "# We will minimize cross-entropy between the ground truth and\n",
    "# network predictions using Adam optimizer\n",
    "loss = nn.CrossEntropyLoss().type(torch.FloatTensor)\n",
    "optimizer = torch.optim.Adam(nn_model.parameters(), lr=0.001, betas=(0.9, 0.999), eps=1e-08, weight_decay=1e-3, amsgrad=False)"
   ]
  },
  {
   "cell_type": "code",
   "execution_count": null,
   "metadata": {},
   "outputs": [],
   "source": [
    "def train_model(model, train_loader, val_loader, loss, optimizer, num_epochs,\n",
    "                scheduler = StepLR(optimizer, step_size = 1, gamma = 1.0)):    \n",
    "    loss_history = []\n",
    "    train_history = []\n",
    "    val_history = []\n",
    "    for epoch in range(num_epochs):\n",
    "        model.train() # Enter train mode\n",
    "        print('current epoch is ', epoch)\n",
    "        loss_accum = 0\n",
    "        correct_samples = 0\n",
    "        total_samples = 0\n",
    "        for i_step, (x, y) in enumerate(train_loader):\n",
    "            print('current step is ', i_step)\n",
    "            prediction = model(x)\n",
    "            loss_value = loss(prediction, y)\n",
    "            optimizer.zero_grad()\n",
    "            loss_value.backward()\n",
    "            optimizer.step()\n",
    "            \n",
    "            indices = torch.argmax(prediction, 1) # 1 stands for the dimention to reduce (read more in the documentation)\n",
    "            correct_samples += torch.sum(indices == y) # using equation is suitable, because index and label are coincided\n",
    "            total_samples += y.shape[0]\n",
    "            \n",
    "            loss_accum += loss_value\n",
    "\n",
    "        ave_loss = loss_accum / (i_step + 1)\n",
    "        train_accuracy = float(correct_samples) / total_samples\n",
    "        val_accuracy = compute_accuracy(model, val_loader)\n",
    "        \n",
    "        loss_history.append(float(ave_loss))\n",
    "        train_history.append(train_accuracy)\n",
    "        val_history.append(val_accuracy)\n",
    "        scheduler.step()\n",
    "        \n",
    "        print(\"Average loss: %f, Train accuracy: %f, Val accuracy: %f\" % (ave_loss, train_accuracy, val_accuracy))\n",
    "        \n",
    "    return loss_history, train_history, val_history\n",
    "        \n",
    "def compute_accuracy(model, loader):\n",
    "    \"\"\"\n",
    "    Computes accuracy on the dataset wrapped in a loader\n",
    "    \n",
    "    Returns: accuracy as a float value between 0 and 1\n",
    "    \"\"\"\n",
    "    model.eval()\n",
    "    correct_samples = 0\n",
    "    total_samples = 0\n",
    "    for i, (x, y) in enumerate(loader):\n",
    "        print('current val step is ', i)\n",
    "        prediction = model(x)\n",
    "        indices = torch.argmax(prediction, 1)\n",
    "        correct_samples += torch.sum(indices == y)\n",
    "        total_samples += y.shape[0]\n",
    "    \n",
    "    val_accuracy = float(correct_samples) / total_samples\n",
    "        \n",
    "    return val_accuracy\n",
    "\n",
    "loss_history, train_history, val_history = train_model(nn_model, train_loader, val_loader, loss, optimizer, 20)"
   ]
  },
  {
   "cell_type": "code",
   "execution_count": 8,
   "metadata": {
    "scrolled": true
   },
   "outputs": [
    {
     "data": {
      "image/png": "[encoded data removed]",
      "text/plain": [
       "<Figure size 432x288 with 1 Axes>"
      ]
     },
     "metadata": {
      "needs_background": "light"
     },
     "output_type": "display_data"
    }
   ],
   "source": [
    "plt.plot(train_history)\n",
    "plt.plot(val_history);"
   ]
  },
  {
   "cell_type": "code",
   "execution_count": null,
   "metadata": {},
   "outputs": [],
   "source": [
    "test_accuracy = compute_accuracy(nn_model, test_loader)\n",
    "test_accuracy"
   ]
  }
 ],
 "metadata": {
  "kernelspec": {
   "display_name": "Python 3",
   "language": "python",
   "name": "python3"
  },
  "language_info": {
   "codemirror_mode": {
    "name": "ipython",
    "version": 3
   },
   "file_extension": ".py",
   "mimetype": "text/x-python",
   "name": "python",
   "nbconvert_exporter": "python",
   "pygments_lexer": "ipython3",
   "version": "3.7.1"
  }
 },
 "nbformat": 4,
 "nbformat_minor": 2
}
